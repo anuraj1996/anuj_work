{
 "cells": [
  {
   "cell_type": "markdown",
   "id": "a1cc6526",
   "metadata": {},
   "source": [
    "### Restaurant rating prediction System"
   ]
  },
  {
   "cell_type": "markdown",
   "id": "6a567fde",
   "metadata": {},
   "source": [
    "#### import required packages"
   ]
  },
  {
   "cell_type": "code",
   "execution_count": 1,
   "id": "df3985d1",
   "metadata": {},
   "outputs": [],
   "source": [
    "import numpy as np\n",
    "import pandas as pd \n",
    "import matplotlib.pyplot as plt\n",
    "import seaborn as sns\n",
    "import scipy as sc \n",
    "import warnings  #supressing warnings\n",
    "warnings.filterwarnings('ignore')"
   ]
  },
  {
   "cell_type": "markdown",
   "id": "c033cab7",
   "metadata": {},
   "source": [
    "#### Load the data"
   ]
  },
  {
   "cell_type": "code",
   "execution_count": 2,
   "id": "4b82ac26",
   "metadata": {},
   "outputs": [],
   "source": [
    "DataForML = pd.read_pickle('./DataForML.pkl')"
   ]
  },
  {
   "cell_type": "code",
   "execution_count": null,
   "id": "4db0114d",
   "metadata": {},
   "outputs": [],
   "source": []
  },
  {
   "cell_type": "markdown",
   "id": "8f554631",
   "metadata": {},
   "source": [
    "In this data, the most important predictor variables are 'cost', 'rating Count', 'Price range'. As these are consistently on top of the variable importance chart for every algorithm. Hence choosing these as final set of predictor variables."
   ]
  },
  {
   "cell_type": "code",
   "execution_count": 3,
   "id": "35d87cc7",
   "metadata": {},
   "outputs": [],
   "source": [
    "# Predictors\n",
    "x=DataForML[['cost','rating_count','price_range']]\n",
    "\n",
    "# Target Variable\n",
    "y=DataForML['rating']\n",
    "\n",
    "# Split the data into training and testing set\n",
    "from sklearn.model_selection import train_test_split\n",
    "X_train, X_test, y_train, y_test = train_test_split(x, y, test_size=0.3, random_state=123456)"
   ]
  },
  {
   "cell_type": "markdown",
   "id": "1b2c5046",
   "metadata": {},
   "source": [
    "### Deployment of model"
   ]
  },
  {
   "cell_type": "markdown",
   "id": "f30b9bb1",
   "metadata": {},
   "source": [
    " Based on the above trials you select that algorithm which produces the best average accuracy. In this case, multiple algorithms have produced similar kind of average accuracy. Hence, we can choose any one of them.\n",
    " \n",
    "We are choosing Decision Trees as the final model since it is very fast for this data!"
   ]
  },
  {
   "cell_type": "markdown",
   "id": "9c86612e",
   "metadata": {},
   "source": [
    "#### Retraining the model using 100% data"
   ]
  },
  {
   "cell_type": "code",
   "execution_count": 4,
   "id": "14c6195d",
   "metadata": {},
   "outputs": [
    {
     "data": {
      "text/plain": [
       "DecisionTreeRegressor(criterion='mse', max_depth=6)"
      ]
     },
     "execution_count": 4,
     "metadata": {},
     "output_type": "execute_result"
    }
   ],
   "source": [
    "from sklearn.tree import DecisionTreeRegressor\n",
    "RegModel = DecisionTreeRegressor(max_depth=6,criterion='mse')\n",
    "\n",
    "# train the model\n",
    "RegModel.fit(x, y)"
   ]
  },
  {
   "cell_type": "code",
   "execution_count": 5,
   "id": "e9ae8926",
   "metadata": {},
   "outputs": [
    {
     "name": "stdout",
     "output_type": "stream",
     "text": [
      "pickle file of Predictive Model is saved at Location: D:\\B1_56320_Durva\\Project\\code\n"
     ]
    }
   ],
   "source": [
    "import pickle\n",
    "import os\n",
    "\n",
    "file = open('Final.pkl', 'wb')\n",
    "pickle.dump(RegModel, file)\n",
    "file.close()\n",
    "\n",
    "print('pickle file of Predictive Model is saved at Location:',os.getcwd())"
   ]
  },
  {
   "cell_type": "code",
   "execution_count": null,
   "id": "4eb6ba55",
   "metadata": {},
   "outputs": [],
   "source": []
  },
  {
   "cell_type": "code",
   "execution_count": null,
   "id": "3f4f13d8",
   "metadata": {},
   "outputs": [],
   "source": []
  }
 ],
 "metadata": {
  "kernelspec": {
   "display_name": "Python 3 (ipykernel)",
   "language": "python",
   "name": "python3"
  },
  "language_info": {
   "codemirror_mode": {
    "name": "ipython",
    "version": 3
   },
   "file_extension": ".py",
   "mimetype": "text/x-python",
   "name": "python",
   "nbconvert_exporter": "python",
   "pygments_lexer": "ipython3",
   "version": "3.9.7"
  }
 },
 "nbformat": 4,
 "nbformat_minor": 5
}
